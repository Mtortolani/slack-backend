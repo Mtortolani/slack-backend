{
 "cells": [
  {
   "cell_type": "code",
   "execution_count": 3,
   "metadata": {},
   "outputs": [],
   "source": [
    "import time\n",
    "import random\n",
    "import matplotlib.pyplot as plt\n",
    "import numpy as np"
   ]
  },
  {
   "cell_type": "code",
   "execution_count": 1,
   "metadata": {},
   "outputs": [],
   "source": [
    "# Functions to Profile\n",
    "\n",
    "def fast_func():\n",
    "    time.sleep(random.uniform(0.01, 0.015))\n",
    "\n",
    "def slow_func():\n",
    "    time.sleep(random.uniform(0.015, 0.020))"
   ]
  },
  {
   "cell_type": "code",
   "execution_count": 30,
   "metadata": {},
   "outputs": [],
   "source": [
    "def render_profiling_chart(function1, function2, iterations: int=100):\n",
    "    '''\n",
    "    Produces profiling report on the performance of 2 functions\n",
    "    with the given number of iterations run\n",
    "    '''\n",
    "\n",
    "    runtimes_1 = np.array([], dtype=float)\n",
    "    runtimes_2 = np.array([], dtype=float)\n",
    "\n",
    "    for i in range(iterations):\n",
    "        start_time = time.time()\n",
    "        function1()\n",
    "        runtimes_1 = np.append(runtimes_1, time.time() - start_time)\n",
    "\n",
    "        start_time = time.time()\n",
    "        function2()\n",
    "        runtimes_2 = np.append(runtimes_2, time.time() - start_time)\n",
    "        if i % 10 == 0:\n",
    "            print('running')\n",
    "\n",
    "    plt.hist(runtimes_1, bins=10, alpha=0.5, label='fast')\n",
    "    plt.hist(runtimes_2, bins=10, alpha=0.5, label='slow')\n",
    "    plt.xlabel('Run Time', size=14)\n",
    "    plt.ylabel(\"Count\", size=14)\n",
    "    plt.title(\"Performance of Vanilla PyMongo vs PySpark & PyMongo\")\n",
    "    plt.legend(loc='upper right')"
   ]
  },
  {
   "cell_type": "code",
   "execution_count": 31,
   "metadata": {},
   "outputs": [
    {
     "name": "stdout",
     "output_type": "stream",
     "text": [
      "running\n",
      "running\n",
      "running\n",
      "running\n",
      "running\n",
      "running\n",
      "running\n",
      "running\n",
      "running\n",
      "running\n"
     ]
    },
    {
     "data": {
      "image/png": "[encoded data removed]",
      "text/plain": [
       "<Figure size 432x288 with 1 Axes>"
      ]
     },
     "metadata": {
      "needs_background": "light"
     },
     "output_type": "display_data"
    }
   ],
   "source": [
    "render_profiling_chart(fast_func, slow_func)"
   ]
  },
  {
   "cell_type": "code",
   "execution_count": null,
   "metadata": {},
   "outputs": [],
   "source": []
  }
 ],
 "metadata": {
  "interpreter": {
   "hash": "1f73376b7771b6eb0a8f62be25bd593d99dca6e96a297a4ed98ab00ee640a65c"
  },
  "kernelspec": {
   "display_name": "Python 3.7.2 ('venv': venv)",
   "language": "python",
   "name": "python3"
  },
  "language_info": {
   "codemirror_mode": {
    "name": "ipython",
    "version": 3
   },
   "file_extension": ".py",
   "mimetype": "text/x-python",
   "name": "python",
   "nbconvert_exporter": "python",
   "pygments_lexer": "ipython3",
   "version": "3.7.2"
  },
  "orig_nbformat": 4
 },
 "nbformat": 4,
 "nbformat_minor": 2
}
